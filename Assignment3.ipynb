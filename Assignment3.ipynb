{
 "cells": [
  {
   "cell_type": "code",
   "execution_count": 11,
   "metadata": {},
   "outputs": [
    {
     "name": "stdout",
     "output_type": "stream",
     "text": [
      "enter 1st num=5\n",
      "enter 2nd num=9\n",
      "(14, -4)\n"
     ]
    }
   ],
   "source": [
    "# Q1: Write a function calculation() such that it can accept two\n",
    "#variables as arguments and calculate the addition and\n",
    "#subtraction of it. And also it must return both addition and\n",
    "#subtraction in a single return call\n",
    "#----------------------------------------------------------------\n",
    "def calculation(a,b):\n",
    "  return (a+b),(a-b)                          #returns the sum and substracted output sent to function call x.\n",
    "a=int(input(\"enter 1st num=\"))\n",
    "b=int(input(\"enter 2nd num=\"))\n",
    "x=calculation(a,b)                           #function call by passing two variable\n",
    "print(x)\n"
   ]
  },
  {
   "cell_type": "code",
   "execution_count": 15,
   "metadata": {},
   "outputs": [
    {
     "name": "stdout",
     "output_type": "stream",
     "text": [
      "enter your name=jishna\n",
      "name of employee: jishna \t salary: 5000\n",
      "enter your name=jid\n",
      "name of employee: jid \t salary: 9000\n"
     ]
    }
   ],
   "source": [
    "#Q2 : Create a function showEmployee() in such a way that it\n",
    "#should accept employee name, and it’s salary and display both,\n",
    "#and if the salary is missing in function call it should show it as\n",
    "#9000\n",
    "#_________________________________________________________________________________\n",
    "def showEmployee(name,salary=9000):                   #IF SALARY IS MISSING BY DEFAULT IT TAKES 9000\n",
    " print(\"name of employee:\",name,\"\\t\",\"salary:\",salary)\n",
    "name=input(\"enter your name=\")\n",
    "x=showEmployee(name,5000)                            #name and salary passes through function call\n",
    "name=input(\"enter your name=\")\n",
    "y=showEmployee(name)                                  #SALARY IS MISSING IN FUNCTION CALL \n",
    "\n",
    "            "
   ]
  },
  {
   "cell_type": "code",
   "execution_count": 2,
   "metadata": {},
   "outputs": [
    {
     "name": "stdout",
     "output_type": "stream",
     "text": [
      "enter a stringjishna\n",
      "jishna  dic: {'j': 1, 'i': 1, 's': 1, 'h': 1, 'n': 1, 'a': 1}\n"
     ]
    }
   ],
   "source": [
    "#Q3.Write a function called multipleLetterCount. This function\n",
    "#takes in one parameter (a string) and returns a dictionary with the\n",
    "#keys being the letters and the value being the count of the letter.\n",
    "#______________________________________________________________________________________________\n",
    "string=input(\"enter a string\")\n",
    "z={}                              #z is A dictionary WITH NULL VALUE\n",
    "for i in string:\n",
    "  if(i in z):                     #THIS CHECKS WHETHER I(KEY) IS IN dictionary IF YES THEN IT COUNTS AND STORE AS KEY VALUE\n",
    "      z[i]=z[i]+1\n",
    "  else:\n",
    "     z[i]=1                     #IF I IS NOT IN DICTIONARY THE VALUE SET TO 1\n",
    "print(string,\" dic:\",z)    "
   ]
  },
  {
   "cell_type": "code",
   "execution_count": null,
   "metadata": {},
   "outputs": [],
   "source": []
  },
  {
   "cell_type": "code",
   "execution_count": null,
   "metadata": {},
   "outputs": [],
   "source": []
  }
 ],
 "metadata": {
  "kernelspec": {
   "display_name": "Python 3",
   "language": "python",
   "name": "python3"
  },
  "language_info": {
   "codemirror_mode": {
    "name": "ipython",
    "version": 3
   },
   "file_extension": ".py",
   "mimetype": "text/x-python",
   "name": "python",
   "nbconvert_exporter": "python",
   "pygments_lexer": "ipython3",
   "version": "3.8.3"
  }
 },
 "nbformat": 4,
 "nbformat_minor": 4
}
