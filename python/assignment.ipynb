{
  "nbformat": 4,
  "nbformat_minor": 0,
  "metadata": {
    "colab": {
      "name": "Untitled3 (2).ipynb",
      "provenance": [],
      "collapsed_sections": [],
      "toc_visible": true
    },
    "kernelspec": {
      "name": "python3",
      "display_name": "Python 3"
    }
  },
  "cells": [
    {
      "cell_type": "code",
      "metadata": {
        "id": "bDTFTnFCBC-K",
        "colab_type": "code",
        "colab": {
          "base_uri": "https://localhost:8080/",
          "height": 51
        },
        "outputId": "a05a9c2b-4418-4967-d666-f4bed55a34f3"
      },
      "source": [
        "#1.PRINT MIDDLE CHARACTERS OF AN ODD LENGTH STRING\n",
        "str1=input(\"enter a string of odd length=\")\n",
        "n=int(len(str1)-1)                           #lengthofthe string \n",
        "mid=int(n/2)                                 #finding the middle index of the string\n",
        "str2=str1[mid-1:mid+2]                       #printing characters from mid-1 mid mid+1\n",
        "print(\"the middle string of\",str1,\" is=\",str2)"
      ],
      "execution_count": null,
      "outputs": [
        {
          "output_type": "stream",
          "text": [
            "enter a string of odd length=hello all\n",
            "the middle string of hello all  is= lo \n"
          ],
          "name": "stdout"
        }
      ]
    },
    {
      "cell_type": "code",
      "metadata": {
        "id": "c-hp-bVUBE1C",
        "colab_type": "code",
        "colab": {
          "base_uri": "https://localhost:8080/",
          "height": 119
        },
        "outputId": "52f59ca1-dd0d-453d-b735-4ba08bef8934"
      },
      "source": [
        "#2.SUM&AVERAGE of N NATURAL NUMBERS\n",
        "#FOR LOOP \n",
        "#--------------\n",
        "sum=0\n",
        "avg=0\n",
        "N=int(input(\"enter the limit=\"))\n",
        "for i in range(1,N+1):\n",
        "  sum=sum+i  \n",
        "avg=sum/N\n",
        "print(\"sum of \",N,\"natural numbers =\",sum,\"\\naverage of\",N,\"natural numbers=\",avg)\n",
        "\n",
        "# WHILE LOOP\n",
        "#--------------\n",
        "SUM=0\n",
        "AVG=0\n",
        "n=int(input(\"enter the limit= \"))\n",
        "N1=n                                               #store the value of n because when the loop is running the value of n becomes changed\n",
        "while(n>0):\n",
        "  SUM=SUM+n\n",
        "  n=n-1\n",
        "AVG=SUM/N1\n",
        "print(\"sum of \",N1,\"natural numbers =\",SUM,\"\\naverage of\",N1,\"natural numbers=\",AVG)\n",
        "\n",
        "\n",
        "                                                                                                                                                                                                                                                                                                                                                                                                                                                                                                                                                                                                                                                                                                                                                                                                                                                                                               "
      ],
      "execution_count": null,
      "outputs": [
        {
          "output_type": "stream",
          "text": [
            "enter the limit=5\n",
            "sum of  5 natural numbers = 15 \n",
            "average of 5 natural numbers= 3.0\n",
            "enter the limit5\n",
            "sum of  5 natural numbers = 15 \n",
            "average of 5 natural numbers= 3.0\n"
          ],
          "name": "stdout"
        }
      ]
    },
    {
      "cell_type": "code",
      "metadata": {
        "id": "dibkWS-FBFeU",
        "colab_type": "code",
        "colab": {
          "base_uri": "https://localhost:8080/",
          "height": 136
        },
        "outputId": "a03b67bd-6371-43fa-de0a-a5280f2b663b"
      },
      "source": [
        "#3.ACCEPT A LIST OF 5 FLOAT NUMBERS AS INPUT AND STORE IT IN A LIST AND PRINT THE LIST\n",
        "i=0\n",
        "num=0\n",
        "lsit=[]\n",
        "print(\"enter 5 numbers\")\n",
        "for i in range(1,6):\n",
        "  num=float(input())\n",
        "  lsit.append(num)                 #append num contents with list\n",
        "print(\"the list is =\",lsit)\n"
      ],
      "execution_count": null,
      "outputs": [
        {
          "output_type": "stream",
          "text": [
            "enter 5 numbers\n",
            "1\n",
            "2\n",
            "3\n",
            "4\n",
            "5\n",
            "the list is = [1.0, 2.0, 3.0, 4.0, 5.0]\n"
          ],
          "name": "stdout"
        }
      ]
    },
    {
      "cell_type": "code",
      "metadata": {
        "id": "lymPUQPEUmgG",
        "colab_type": "code",
        "colab": {
          "base_uri": "https://localhost:8080/",
          "height": 187
        },
        "outputId": "2e797cd8-e395-464b-fa90-937fc805dcd1"
      },
      "source": [
        "#4.PRINT THE PATTERN \n",
        "# A)\n",
        "#--------------------\n",
        "i=1\n",
        "j=1\n",
        "while(i<=5):\n",
        "   while(j<=i):\n",
        "     print(j,end=\"\\t\")\n",
        "     j=j+1\n",
        "   print(\"\\n\")\n",
        "   j=1\n",
        "   i=i+1\n",
        "\n",
        "  "
      ],
      "execution_count": 1,
      "outputs": [
        {
          "output_type": "stream",
          "text": [
            "1\t\n",
            "\n",
            "1\t2\t\n",
            "\n",
            "1\t2\t3\t\n",
            "\n",
            "1\t2\t3\t4\t\n",
            "\n",
            "1\t2\t3\t4\t5\t\n",
            "\n"
          ],
          "name": "stdout"
        }
      ]
    },
    {
      "cell_type": "code",
      "metadata": {
        "id": "TNC0hYpUeAQF",
        "colab_type": "code",
        "colab": {
          "base_uri": "https://localhost:8080/",
          "height": 187
        },
        "outputId": "36a5c599-bcf9-4c73-8763-2a60ecc8516c"
      },
      "source": [
        " # B)\n",
        "   #---------------------\n",
        "i=5\n",
        "j=1\n",
        "k=i\n",
        "while(i<=5):\n",
        "  if(i==0):\n",
        "    break                               #exit from while(1st) loop when i=0 and break statement is called \n",
        "  while(j<=i):\n",
        "       print(j,end=\"\\t \")\n",
        "       #k=i\n",
        "       j=j+1\n",
        "  print(\"\\n\")\n",
        "  i=i-1\n",
        "  j=1\n",
        "   "
      ],
      "execution_count": null,
      "outputs": [
        {
          "output_type": "stream",
          "text": [
            "1\t 2\t 3\t 4\t 5\t \n",
            "\n",
            "1\t 2\t 3\t 4\t \n",
            "\n",
            "1\t 2\t 3\t \n",
            "\n",
            "1\t 2\t \n",
            "\n",
            "1\t \n",
            "\n"
          ],
          "name": "stdout"
        }
      ]
    },
    {
      "cell_type": "code",
      "metadata": {
        "id": "JaLIHg-3hK6i",
        "colab_type": "code",
        "colab": {
          "base_uri": "https://localhost:8080/",
          "height": 51
        },
        "outputId": "0b301803-1d90-4c55-9db3-83671ee1fb4a"
      },
      "source": [
        "#5.INPUT A NUMBER,PRINT THE TOTAL NUMBER OF DIGITS USING WHILE LOOP.\n",
        "val=0\n",
        "num=int(input(\"enter a number\"))\n",
        "while (num!=0):\n",
        "  num=int(num/10)                    #when dividing with 10 we get a float number hence we convert it to int type\n",
        "  val=val+1\n",
        "print( \"count of digits=\",val)\n",
        "  "
      ],
      "execution_count": null,
      "outputs": [
        {
          "output_type": "stream",
          "text": [
            "enter a number1245\n",
            "count of digits= 4\n"
          ],
          "name": "stdout"
        }
      ]
    },
    {
      "cell_type": "code",
      "metadata": {
        "id": "W2YOEScUio3v",
        "colab_type": "code",
        "colab": {
          "base_uri": "https://localhost:8080/",
          "height": 34
        },
        "outputId": "48759fa3-f71e-473f-9a55-3d5fe2fca031"
      },
      "source": [
        "#6.GIVEN TWO LIST CREATE THIRDLIST BY PICKING ODDINDEX ELEMENT FROM FRST LIST AND EVEN INDEX ELEMENT FROM SECONDLIST\n",
        "listThree=[]\n",
        "listOne=[3,6,9,12,15,18,21]\n",
        "listTwo=[4,8,12,16,20,24,28]\n",
        "li1=listOne[1::2]\n",
        "li2=listTwo[0::2]\n",
        "listThree=li1+li2\n",
        "listThree"
      ],
      "execution_count": null,
      "outputs": [
        {
          "output_type": "execute_result",
          "data": {
            "text/plain": [
              "[6, 12, 18, 4, 12, 20, 28]"
            ]
          },
          "metadata": {
            "tags": []
          },
          "execution_count": 48
        }
      ]
    },
    {
      "cell_type": "code",
      "metadata": {
        "id": "3byKIPpqrtvX",
        "colab_type": "code",
        "colab": {
          "base_uri": "https://localhost:8080/",
          "height": 119
        },
        "outputId": "ef88f591-25f8-4cfb-d61b-81b9e30ba136"
      },
      "source": [
        "#7.PROGRAM TO GET THE SMALLEST NUMBER FROM A LIST \n",
        "lit=[]\n",
        "n=int(input(\"the number of elements in the list=\"))\n",
        "for i in range(1,n+1):\n",
        "  val=int(input())                                      #this will store the elements that we input \n",
        "  lit.append(val)                                       #this will append the elements to the list \n",
        "smallest=lit[0]                                         #assuming that the first(0th) index in the list contains the smallest value assign it to 'smallest' variable                                   \n",
        "for j in range(1,n):\n",
        "  if(smallest>lit[j]):\n",
        "    smallest=lit[j]                                     #from each true statement the smallest value is changed\n",
        "print(\"smallest element in the list is:\",smallest)\n"
      ],
      "execution_count": null,
      "outputs": [
        {
          "output_type": "stream",
          "text": [
            "the number of elements in the list=4\n",
            "1\n",
            "9\n",
            "-1\n",
            "0\n",
            "smallest element in the list is: -1\n"
          ],
          "name": "stdout"
        }
      ]
    },
    {
      "cell_type": "code",
      "metadata": {
        "id": "QUCrsXkw-UOD",
        "colab_type": "code",
        "colab": {
          "base_uri": "https://localhost:8080/",
          "height": 34
        },
        "outputId": "a5e07e83-a703-43a5-b595-63ab792e4954"
      },
      "source": [
        "#8.REVERSE A LIST\n",
        "list1=[10,20,30,4,50]                    \n",
        "old=list1[0::]         #or list1                #printing from first index(0)to rightside   \n",
        "list1=list1[::-1]                      #printing from last index(-1) to leftside\n",
        "print(\"reversed list=\",list1,\"original list=\",old)"
      ],
      "execution_count": null,
      "outputs": [
        {
          "output_type": "stream",
          "text": [
            "reversed list= [50, 4, 30, 20, 10] original list= [10, 20, 30, 4, 50]\n"
          ],
          "name": "stdout"
        }
      ]
    },
    {
      "cell_type": "code",
      "metadata": {
        "id": "IhOxWYj9CUWc",
        "colab_type": "code",
        "colab": {}
      },
      "source": [
        ""
      ],
      "execution_count": null,
      "outputs": []
    }
  ]
}