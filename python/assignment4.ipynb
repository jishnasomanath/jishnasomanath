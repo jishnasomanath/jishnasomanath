{
 "cells": [
  {
   "cell_type": "code",
   "execution_count": 7,
   "metadata": {},
   "outputs": [
    {
     "name": "stdout",
     "output_type": "stream",
     "text": [
      "reading file\n",
      "['hi this is a text just for fun,\\n', 'i love drawing .having food is good for health at the right time.python is famous because of it support oop,functional and procedural.']\n"
     ]
    }
   ],
   "source": [
    "#Q1 : create a txt file, enter multiple lines of text. read this file line by line and store\n",
    "#it into a list. Apply exception handling technique\n",
    "#_________________________________________________________________________________________\n",
    "myfile=open(\"test11.txt\",\"w+\")\n",
    "myfile.seek(0)\n",
    "h=myfile.readlines()\n",
    "myfile.write(\"hi this is a text just for fun,\\n\")\n",
    "myfile.seek(0)\n",
    "h=myfile.readlines()\n",
    "myfile.write(\"i love drawing\\n .\")\n",
    "myfile.seek(0)\n",
    "h=myfile.readlines()\n",
    "myfile.write(\"having food is good for health at the right time.\\n\")\n",
    "myfile.seek(0)\n",
    "h=myfile.readlines()\n",
    "myfile.write(\"python is famous because of it support oop,functional and procedural.\\n\")\n",
    "\n",
    "try:\n",
    "   myfile= open(\"test11.txt\", \"r\")\n",
    "   h=myfile.readlines()\n",
    "except:\n",
    "   print(\"Error: can't  read data\")\n",
    "finally:\n",
    "      print(\"reading file\")\n",
    "      myfile.seek(0)\n",
    "      h=myfile.readlines()\n",
    "      print(h)"
   ]
  },
  {
   "cell_type": "code",
   "execution_count": 106,
   "metadata": {},
   "outputs": [
    {
     "name": "stdout",
     "output_type": "stream",
     "text": [
      "written content successfully\n"
     ]
    }
   ],
   "source": [
    "#Q2: Write a Python program to write below list content to a file. Apply exception\n",
    "#handling technique\n",
    "#__color = ['Red', 'Green', 'White', 'Black', 'Pink', 'Yellow']________________________________________________________________________________________\n",
    "color = ['Red', 'Green', 'White', 'Black', 'Pink', 'Yellow']\n",
    "myfile=open(\"test4.txt\",\"w\")\n",
    "try: \n",
    "    for i in color:\n",
    "       color=myfile.write(i)\n",
    "except:\n",
    "  print(\"Error: can't  write data\")\n",
    "finally:\n",
    "   print(\"written content successfully\")\n",
    "   \n",
    "     \n",
    "    "
   ]
  },
  {
   "cell_type": "code",
   "execution_count": 79,
   "metadata": {},
   "outputs": [
    {
     "name": "stdout",
     "output_type": "stream",
     "text": [
      "['python is famous because of it support oop,functional and procedural\\n', 'having food is good for health at the right time\\n', 'this is my text file for exception handling']\n",
      "['python is famous because of it support oop,functional and procedural', 'having food is good for health at the right time', 'this is my text file for exception handling']\n"
     ]
    }
   ],
   "source": [
    "#Q3 : create a txt file, enter multiple lines of text. remove newline characters from\n",
    "#created file and print as a list. Apply exception handling techniques wherever\n",
    "#possible\n",
    "#------------------------------------------------------------------------------------------------------\n",
    "f=open(\"test3.txt\",\"w\")\n",
    "f.write(\"python is famous because of it support oop,functional and procedural\\n\")\n",
    "f.write(\"having food is good for health at the right time\\n\")\n",
    "f.write(\"this is my text file for exception handling\")\n",
    "f.seek(0)\n",
    "f=open(\"test3.txt\",\"r\")\n",
    "f.seek(0)\n",
    "h=f.readlines()\n",
    "print(h)\n",
    "try:\n",
    "    list = []\n",
    "    f = open(\"test3.txt\",'r')\n",
    "    a = f.readlines()\n",
    "    for i in a:\n",
    "      list.append(i.strip())  \n",
    "    print(list)\n",
    "except:\n",
    "    print(\"error while reading file\")\n"
   ]
  },
  {
   "cell_type": "code",
   "execution_count": 100,
   "metadata": {},
   "outputs": [
    {
     "name": "stdout",
     "output_type": "stream",
     "text": [
      "Mca\n",
      "mba\n"
     ]
    }
   ],
   "source": [
    "\n",
    "#Q4 : create a testfile1.txt file, enter multiple lines of text . Now copy contents of\n",
    "#testfile1.txt to new file testfile22.txt. Apply exception handling techniques\n",
    "#wherever possible\n",
    "#-------------------------------------------------------------------------------------------------------\n",
    "try:\n",
    "    file1 = open(\"test33.txt\",'w')\n",
    "    file1.writelines(\"Mca\\n\")\n",
    "    file1.writelines(\"mba\")\n",
    "    file1.close()\n",
    "except:\n",
    "    print(\"Error while creating file\")\n",
    "try:\n",
    "    file1=open(\"test33.txt\",'r')\n",
    "    file2=open(\"test22.txt\",'w')\n",
    "    file1.seek(0)\n",
    "    file2.write(file1.read())\n",
    "except:\n",
    "    print(\"Errorcopying file\")\n",
    "try:\n",
    "     f3 = open(\"test22.txt\",'r')\n",
    "     print(f3.read())\n",
    "except:\n",
    "    print(\"error while reading testfile2\")"
   ]
  },
  {
   "cell_type": "code",
   "execution_count": null,
   "metadata": {},
   "outputs": [],
   "source": [
    "\n"
   ]
  },
  {
   "cell_type": "code",
   "execution_count": null,
   "metadata": {},
   "outputs": [],
   "source": []
  }
 ],
 "metadata": {
  "kernelspec": {
   "display_name": "Python 3",
   "language": "python",
   "name": "python3"
  },
  "language_info": {
   "codemirror_mode": {
    "name": "ipython",
    "version": 3
   },
   "file_extension": ".py",
   "mimetype": "text/x-python",
   "name": "python",
   "nbconvert_exporter": "python",
   "pygments_lexer": "ipython3",
   "version": "3.8.3"
  }
 },
 "nbformat": 4,
 "nbformat_minor": 4
}
