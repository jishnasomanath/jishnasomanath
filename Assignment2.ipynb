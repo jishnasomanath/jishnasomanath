{
 "cells": [
  {
   "cell_type": "code",
   "execution_count": 3,
   "metadata": {},
   "outputs": [
    {
     "name": "stdout",
     "output_type": "stream",
     "text": [
      "The first tuple is = (11, [22, 33], 44, 55)\n",
      "The(first element of list )UPDATED tuple is = (11, [222, 33], 44, 55)\n"
     ]
    }
   ],
   "source": [
    "##1:Modify the first item (22) of a list inside a following tuple to222\n",
    "#----------------------------------------------------------------------------------------------------------\n",
    "tuple=(11,[22,33],44,55)\n",
    "print(\"The first tuple is =\",tuple)\n",
    "tuple[1][0]=222\n",
    "print(\"The(first element of list )UPDATED tuple is =\",tuple)"
   ]
  },
  {
   "cell_type": "code",
   "execution_count": 14,
   "metadata": {},
   "outputs": [
    {
     "name": "stdout",
     "output_type": "stream",
     "text": [
      "no of 50's in the tuple1 (50, 10, 60, 70, 50) is= 2\n"
     ]
    }
   ],
   "source": [
    "##2:count the number of occurence of a item(50)in tuple\n",
    "#-------------------------------------------------------\n",
    "tuple1=(50,10,60,70,50)\n",
    "count=0\n",
    "for i in tuple1:\n",
    "    if(i==50):\n",
    "        count=count+1\n",
    "print(\"no of 50's in the tuple1\",tuple1,\"is=\",count)"
   ]
  },
  {
   "cell_type": "code",
   "execution_count": 26,
   "metadata": {},
   "outputs": [
    {
     "name": "stdout",
     "output_type": "stream",
     "text": [
      "list is= [1, 2, 3, 4, 5]\n",
      "tuple is= (1, 2, 3, 4, 5)\n"
     ]
    }
   ],
   "source": [
    "#3.Write a Python program to convert a list to a tuple\n",
    "#----------------------------------------------------\n",
    "def change(list1):\n",
    "    return(tuple(list1))    #returning list as tuple\n",
    "list1=[1,2,3,4,5]\n",
    "print(\"list is=\",list1)\n",
    "print(\"tuple is=\",change(list1))"
   ]
  },
  {
   "cell_type": "code",
   "execution_count": 27,
   "metadata": {},
   "outputs": [
    {
     "name": "stdout",
     "output_type": "stream",
     "text": [
      "[10, 20, 30, 40, 50, 60, 70]\n"
     ]
    }
   ],
   "source": [
    "#4: Returns a new set with all items from both sets by removing duplicates\n",
    "#-----------------------------------------------------------------------------\n",
    "s1 = {10, 20, 30, 40, 50}\n",
    "s2 = {30, 40, 50, 60, 70}\n",
    "s3={0}                     #nullset\n",
    "s3=s2.union(s1)\n",
    "s3=sorted(s3)\n",
    "print(s3)"
   ]
  },
  {
   "cell_type": "code",
   "execution_count": 3,
   "metadata": {},
   "outputs": [
    {
     "name": "stdout",
     "output_type": "stream",
     "text": [
      "{'Ten': 10, 'Twenty': 20, 'Thirty': 30, 'Fourty': 40, 'Fifty': 50}\n"
     ]
    }
   ],
   "source": [
    "#Q5: Merge following two Python dictionaries into one\n",
    "#----------------------------------------------------------------------------\n",
    "dict1 = {'Ten': 10, 'Twenty': 20, 'Thirty': 30}\n",
    "dict2 = {'Thirty': 30, 'Fourty': 40, 'Fifty': 50}\n",
    "dict3={**dict1,**dict2}              #join two dictionaries\n",
    "print(dict3)"
   ]
  },
  {
   "cell_type": "code",
   "execution_count": 15,
   "metadata": {},
   "outputs": [
    {
     "name": "stdout",
     "output_type": "stream",
     "text": [
      "old dictionary is=\n",
      " {'emp1': {'name': 'Jhon', 'salary': 7500}, 'emp2': {'name': 'Emma', 'salary': 8000}, 'emp3': {'name': 'Brad', 'salary': 6500}}\n",
      "new dictionary is=\n",
      " {'emp1': {'name': 'Jhon', 'salary': 7500}, 'emp2': {'name': 'Emma', 'salary': 8000}, 'emp3': {'name': 'Brad', 'salary': 8500}}\n"
     ]
    }
   ],
   "source": [
    "#Q6.Given a Python dictionary, Change Brad’s salary to 8500\n",
    "#**********************************************************************\n",
    "sampleDict={'emp1':{'name': 'Jhon', 'salary': 7500},'emp2':{'name': 'Emma', 'salary': 8000},'emp3':{'name': 'Brad', 'salary': 6500}}\n",
    "print(\"old dictionary is=\\n\",sampleDict)\n",
    "sampleDict['emp3']['salary']=8500       #updating 8500 as salary(key) of emp3(key) dictionary of sampleDict dictionary\n",
    "print(\"new dictionary is=\\n\",sampleDict)\n"
   ]
  },
  {
   "cell_type": "code",
   "execution_count": 24,
   "metadata": {},
   "outputs": [
    {
     "name": "stdout",
     "output_type": "stream",
     "text": [
      "{'name': 'Kelly', 'age': 25, 'salary': 8000, 'location': 'newyork'}\n"
     ]
    }
   ],
   "source": [
    "#7.Rename key city to location in the following dictionary\n",
    "#---------------------------------------------------------------\n",
    "sampleDict = {\n",
    "\"name\": \"Kelly\",\n",
    "\"age\":25,\n",
    "\"salary\": 8000,\n",
    "\"city\": \"New york\"\n",
    "}\n",
    "sampleDict[\"location\"]=\"newyork\"\n",
    "del sampleDict[\"city\"]             #deletig key city from dictionary\n",
    "print(sampleDict)"
   ]
  },
  {
   "cell_type": "code",
   "execution_count": null,
   "metadata": {},
   "outputs": [],
   "source": []
  },
  {
   "cell_type": "code",
   "execution_count": null,
   "metadata": {},
   "outputs": [],
   "source": []
  }
 ],
 "metadata": {
  "kernelspec": {
   "display_name": "Python 3",
   "language": "python",
   "name": "python3"
  },
  "language_info": {
   "codemirror_mode": {
    "name": "ipython",
    "version": 3
   },
   "file_extension": ".py",
   "mimetype": "text/x-python",
   "name": "python",
   "nbconvert_exporter": "python",
   "pygments_lexer": "ipython3",
   "version": "3.8.3"
  }
 },
 "nbformat": 4,
 "nbformat_minor": 4
}
